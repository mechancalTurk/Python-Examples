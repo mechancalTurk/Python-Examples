{
 "cells": [
  {
   "cell_type": "markdown",
   "id": "030e1b13",
   "metadata": {},
   "source": [
    "## Exploring and pre-processing a dataset using Pandas"
   ]
  },
  {
   "cell_type": "code",
   "execution_count": 50,
   "id": "22645ce6",
   "metadata": {},
   "outputs": [],
   "source": [
    "import numpy as np\n",
    "import pandas as pd"
   ]
  },
  {
   "cell_type": "code",
   "execution_count": null,
   "id": "27a846e5",
   "metadata": {},
   "outputs": [],
   "source": [
    "df = pd.read_excel(\n",
    "    'https://cf-courses-data.s3.us.cloud-object-storage.appdomain.cloud/IBMDeveloperSkillsNetwork-DV0101EN-SkillsNetwork/Data%20Files/Canada.xlsx',\n",
    "    sheet_name='Canada by Citizenship',\n",
    "    skiprows=range(20),\n",
    "    skipfooter=2)\n",
    "print('Data read into a pandas dataframe!')"
   ]
  },
  {
   "cell_type": "markdown",
   "id": "441a56e4",
   "metadata": {},
   "source": [
    "## Pandas Basics"
   ]
  },
  {
   "cell_type": "markdown",
   "id": "3383602c",
   "metadata": {},
   "source": [
    "Let's view the top 5 rows of the dataset using the head() function"
   ]
  },
  {
   "cell_type": "code",
   "execution_count": null,
   "id": "56749cea",
   "metadata": {},
   "outputs": [],
   "source": [
    "df.head()"
   ]
  },
  {
   "cell_type": "markdown",
   "id": "1733e073",
   "metadata": {},
   "source": [
    "We can also view the bottom 5 rows of the dataset using the tail() function:"
   ]
  },
  {
   "cell_type": "code",
   "execution_count": null,
   "id": "e066b002",
   "metadata": {},
   "outputs": [],
   "source": [
    "df.tail()"
   ]
  },
  {
   "cell_type": "markdown",
   "id": "38f2a46a",
   "metadata": {},
   "source": [
    "When analyzing a dataset, it is always a good idea to start by getting basic information about your dataframe by using the info() method:"
   ]
  },
  {
   "cell_type": "code",
   "execution_count": null,
   "id": "bfe23a5e",
   "metadata": {},
   "outputs": [],
   "source": [
    "df.info(verbose=False)"
   ]
  },
  {
   "cell_type": "code",
   "execution_count": null,
   "id": "a1304ac1",
   "metadata": {},
   "outputs": [],
   "source": [
    "df.info(verbose=True)"
   ]
  },
  {
   "cell_type": "code",
   "execution_count": null,
   "id": "bd78c8e4",
   "metadata": {},
   "outputs": [],
   "source": [
    "# get the column headers\n",
    "df.columns"
   ]
  },
  {
   "cell_type": "code",
   "execution_count": null,
   "id": "32219224",
   "metadata": {},
   "outputs": [],
   "source": [
    "# get the list of indices\n",
    "df.index"
   ]
  },
  {
   "cell_type": "markdown",
   "id": "0dc10cd4",
   "metadata": {},
   "source": [
    "Note, that the default type of instance variables index and columns are NOT list:"
   ]
  },
  {
   "cell_type": "code",
   "execution_count": null,
   "id": "3647b13c",
   "metadata": {},
   "outputs": [],
   "source": [
    "print(type(df.columns))"
   ]
  },
  {
   "cell_type": "code",
   "execution_count": null,
   "id": "061d1fa8",
   "metadata": {},
   "outputs": [],
   "source": [
    "print(type(df.index))"
   ]
  },
  {
   "cell_type": "markdown",
   "id": "8d7574e5",
   "metadata": {},
   "source": [
    "To get the index and columns as lists, we can use the tolist() method:"
   ]
  },
  {
   "cell_type": "code",
   "execution_count": null,
   "id": "e38e83a6",
   "metadata": {},
   "outputs": [],
   "source": [
    "df.columns.to_list()"
   ]
  },
  {
   "cell_type": "code",
   "execution_count": null,
   "id": "dd645d23",
   "metadata": {},
   "outputs": [],
   "source": [
    "df.index.to_list()"
   ]
  },
  {
   "cell_type": "code",
   "execution_count": null,
   "id": "10592191",
   "metadata": {},
   "outputs": [],
   "source": [
    "print(type(df.columns.tolist()))\n",
    "print(type(df.index.tolist()))"
   ]
  },
  {
   "cell_type": "markdown",
   "id": "8e66db19",
   "metadata": {},
   "source": [
    "To view the dimensions of the dataframe, we use the shape instance variable of it: "
   ]
  },
  {
   "cell_type": "code",
   "execution_count": null,
   "id": "f92bba81",
   "metadata": {},
   "outputs": [],
   "source": [
    "# size of dataframe (rows, columns)\n",
    "df.shape"
   ]
  },
  {
   "cell_type": "code",
   "execution_count": null,
   "id": "466ed5d2",
   "metadata": {},
   "outputs": [],
   "source": [
    "df.drop(['AREA', 'REG', 'DEV', 'Type', 'Coverage'], axis=1, inplace=True)"
   ]
  },
  {
   "cell_type": "code",
   "execution_count": null,
   "id": "cd58ac80",
   "metadata": {},
   "outputs": [],
   "source": [
    "df.head(3)"
   ]
  },
  {
   "cell_type": "code",
   "execution_count": null,
   "id": "001793df",
   "metadata": {},
   "outputs": [],
   "source": [
    "df.rename(columns={'OdName':'Country', 'AreaName':'Continent', 'RegName':'Region'}, inplace=True)\n",
    "df.columns"
   ]
  },
  {
   "cell_type": "code",
   "execution_count": null,
   "id": "66b16b27",
   "metadata": {},
   "outputs": [],
   "source": [
    "df.head(3)"
   ]
  },
  {
   "cell_type": "code",
   "execution_count": null,
   "id": "5648c332",
   "metadata": {},
   "outputs": [],
   "source": [
    "# We will also add a 'Total' column that sums up the total immigrants by country over the entire period 1980 - 2013, as follows:\n",
    "# df_can['Total'] = df_can.sum(axis=1)\n",
    "# --> TypeError: can only concatenate str (not \"int\") to str\n",
    "# You see now we must sum only the numeric columns, excluding any that still have non-numeric types:\n",
    "df['Total'] = df.select_dtypes(include=[np.number]).sum(axis=1)\n",
    "df['Total']"
   ]
  },
  {
   "cell_type": "code",
   "execution_count": null,
   "id": "f04bee74",
   "metadata": {},
   "outputs": [],
   "source": [
    "# We can check to see how many null objects we have in the dataset as follows:\n",
    "df.isnull().sum()"
   ]
  },
  {
   "cell_type": "code",
   "execution_count": null,
   "id": "1cba8823",
   "metadata": {},
   "outputs": [],
   "source": [
    "# Finally, let's view a quick summary of each column in our dataframe using the describe() method:\n",
    "df.describe()"
   ]
  },
  {
   "cell_type": "markdown",
   "id": "f9429db8",
   "metadata": {},
   "source": [
    "## Pandas Intermediate"
   ]
  },
  {
   "cell_type": "markdown",
   "id": "57a4f3c5",
   "metadata": {},
   "source": [
    "### Selecting Columns"
   ]
  },
  {
   "cell_type": "code",
   "execution_count": null,
   "id": "f348989e",
   "metadata": {},
   "outputs": [],
   "source": [
    "# returns a series\n",
    "df['Country']"
   ]
  },
  {
   "cell_type": "code",
   "execution_count": null,
   "id": "0d5329cd",
   "metadata": {
    "scrolled": true
   },
   "outputs": [],
   "source": [
    "# returns a series\n",
    "df.Country"
   ]
  },
  {
   "cell_type": "code",
   "execution_count": null,
   "id": "a15c95a5",
   "metadata": {},
   "outputs": [],
   "source": [
    "df[['Country', 1980]]"
   ]
  },
  {
   "cell_type": "code",
   "execution_count": null,
   "id": "e2077f6f",
   "metadata": {},
   "outputs": [],
   "source": [
    "df[['Country', 1980, 1981, 1982]]"
   ]
  },
  {
   "cell_type": "markdown",
   "id": "18730acb",
   "metadata": {},
   "source": [
    "### Selecting Rows"
   ]
  },
  {
   "cell_type": "markdown",
   "id": "cb87fe29",
   "metadata": {},
   "source": [
    "Setting Index "
   ]
  },
  {
   "cell_type": "code",
   "execution_count": null,
   "id": "91938c35",
   "metadata": {},
   "outputs": [],
   "source": [
    "df.set_index('Country', inplace=True)"
   ]
  },
  {
   "cell_type": "code",
   "execution_count": null,
   "id": "b25360c4",
   "metadata": {
    "scrolled": true
   },
   "outputs": [],
   "source": [
    "df.head()"
   ]
  },
  {
   "cell_type": "code",
   "execution_count": null,
   "id": "03545392",
   "metadata": {},
   "outputs": [],
   "source": [
    "# optional: if you want to remove the name of the index \n",
    "df.index.name = None"
   ]
  },
  {
   "cell_type": "code",
   "execution_count": null,
   "id": "a9368087",
   "metadata": {},
   "outputs": [],
   "source": [
    "df.head()"
   ]
  },
  {
   "cell_type": "code",
   "execution_count": null,
   "id": "29f293bf",
   "metadata": {},
   "outputs": [],
   "source": [
    "df.loc['Japan']"
   ]
  },
  {
   "cell_type": "code",
   "execution_count": null,
   "id": "051c1bc0",
   "metadata": {},
   "outputs": [],
   "source": [
    "df.iloc[87]"
   ]
  },
  {
   "cell_type": "code",
   "execution_count": null,
   "id": "6a507d48",
   "metadata": {},
   "outputs": [],
   "source": [
    "df[df.index == 'Japan']"
   ]
  },
  {
   "cell_type": "code",
   "execution_count": null,
   "id": "2aeba5af",
   "metadata": {},
   "outputs": [],
   "source": [
    "df.loc['Japan', 2013]"
   ]
  },
  {
   "cell_type": "code",
   "execution_count": null,
   "id": "764f8ef9",
   "metadata": {},
   "outputs": [],
   "source": [
    "df.loc['Japan', [1980, 1981, 1982]]"
   ]
  },
  {
   "cell_type": "code",
   "execution_count": null,
   "id": "58f16c0d",
   "metadata": {},
   "outputs": [],
   "source": [
    "df.iloc[87,36]"
   ]
  },
  {
   "cell_type": "code",
   "execution_count": null,
   "id": "4e469b1a",
   "metadata": {},
   "outputs": [],
   "source": [
    "df.iloc[87, [3,4,5,6,7]]"
   ]
  },
  {
   "cell_type": "markdown",
   "id": "e6b681d0",
   "metadata": {},
   "source": [
    "Filtering based on a criteria:"
   ]
  },
  {
   "cell_type": "code",
   "execution_count": null,
   "id": "d3d4ae62",
   "metadata": {},
   "outputs": [],
   "source": [
    "# 1. create the condition boolean series \n",
    "condition = df['Continent'] == 'Asia'\n",
    "print(condition)"
   ]
  },
  {
   "cell_type": "code",
   "execution_count": null,
   "id": "ace103aa",
   "metadata": {},
   "outputs": [],
   "source": [
    "# 2. pass this condition into the dataFrame\n",
    "df[condition]"
   ]
  },
  {
   "cell_type": "code",
   "execution_count": null,
   "id": "8cf698b4",
   "metadata": {},
   "outputs": [],
   "source": [
    "# We can pass multiple criteria in the same line:\n",
    "df[(df['Continent']=='Asia') & (df['Region']=='Southern Asia')]"
   ]
  },
  {
   "cell_type": "markdown",
   "id": "86c6ce84",
   "metadata": {},
   "source": [
    "Exercise: Fetch the data where AreaName is 'Africa' and RegName is 'Southern Africa'.\n",
    "Display the dataframe and find out how many instances are there?"
   ]
  },
  {
   "cell_type": "code",
   "execution_count": null,
   "id": "e06f12ff",
   "metadata": {},
   "outputs": [],
   "source": [
    "df[(df['Continent']=='Africa') & (df['Region']=='Southern Africa')]"
   ]
  },
  {
   "cell_type": "code",
   "execution_count": null,
   "id": "e302e294",
   "metadata": {},
   "outputs": [],
   "source": [
    "df.head()"
   ]
  },
  {
   "cell_type": "code",
   "execution_count": null,
   "id": "1ec33355",
   "metadata": {
    "scrolled": true
   },
   "outputs": [],
   "source": [
    "df.sort_values(by='Total', ascending=False, axis=0, inplace=True)\n",
    "top_5 = df.head(5)\n",
    "top_5"
   ]
  },
  {
   "cell_type": "code",
   "execution_count": null,
   "id": "359c0cae",
   "metadata": {
    "scrolled": true
   },
   "outputs": [],
   "source": [
    "df.sort_values(by='Continent', ascending=True, axis=0, inplace=True)\n",
    "top_5 = df.head(5)\n",
    "top_5"
   ]
  },
  {
   "cell_type": "markdown",
   "id": "d8d2d252",
   "metadata": {},
   "source": [
    "Exercise: Find out top 3 countries that contributes the most to immigration to Canda in the year 2010.\n",
    "Display the country names with the immigrant count in this year:"
   ]
  },
  {
   "cell_type": "code",
   "execution_count": null,
   "id": "c0dd2f2e",
   "metadata": {},
   "outputs": [],
   "source": [
    "df.sort_values(by=2010, ascending=False, axis=0, inplace=True)\n",
    "top3_2010 = df[2010].head(3)\n",
    "top3_2010"
   ]
  },
  {
   "cell_type": "code",
   "execution_count": null,
   "id": "0b46883a",
   "metadata": {},
   "outputs": [],
   "source": []
  }
 ],
 "metadata": {
  "kernelspec": {
   "display_name": "Python 3 (ipykernel)",
   "language": "python",
   "name": "python3"
  },
  "language_info": {
   "codemirror_mode": {
    "name": "ipython",
    "version": 3
   },
   "file_extension": ".py",
   "mimetype": "text/x-python",
   "name": "python",
   "nbconvert_exporter": "python",
   "pygments_lexer": "ipython3",
   "version": "3.11.5"
  }
 },
 "nbformat": 4,
 "nbformat_minor": 5
}
